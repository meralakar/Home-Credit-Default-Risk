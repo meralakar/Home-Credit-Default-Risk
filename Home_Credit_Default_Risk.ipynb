{
 "cells": [
  {
   "cell_type": "code",
   "execution_count": 1,
   "metadata": {},
   "outputs": [],
   "source": [
    "import pandas as pd \n",
    "import numpy as np\n",
    "from sklearn import preprocessing \n",
    "import os \n",
    "import matplotlib.pyplot as plt\n",
    "import seaborn as sns \n"
   ]
  },
  {
   "cell_type": "code",
   "execution_count": 171,
   "metadata": {},
   "outputs": [],
   "source": [
    "\n",
    "train=pd.read_csv('application_train.csv',index_col=0)"
   ]
  },
  {
   "cell_type": "code",
   "execution_count": 172,
   "metadata": {},
   "outputs": [
    {
     "data": {
      "text/html": [
       "<div>\n",
       "<style scoped>\n",
       "    .dataframe tbody tr th:only-of-type {\n",
       "        vertical-align: middle;\n",
       "    }\n",
       "\n",
       "    .dataframe tbody tr th {\n",
       "        vertical-align: top;\n",
       "    }\n",
       "\n",
       "    .dataframe thead th {\n",
       "        text-align: right;\n",
       "    }\n",
       "</style>\n",
       "<table border=\"1\" class=\"dataframe\">\n",
       "  <thead>\n",
       "    <tr style=\"text-align: right;\">\n",
       "      <th></th>\n",
       "      <th>TARGET</th>\n",
       "      <th>NAME_CONTRACT_TYPE</th>\n",
       "      <th>CODE_GENDER</th>\n",
       "      <th>FLAG_OWN_CAR</th>\n",
       "      <th>FLAG_OWN_REALTY</th>\n",
       "      <th>CNT_CHILDREN</th>\n",
       "      <th>AMT_INCOME_TOTAL</th>\n",
       "      <th>AMT_CREDIT</th>\n",
       "      <th>AMT_ANNUITY</th>\n",
       "      <th>AMT_GOODS_PRICE</th>\n",
       "      <th>...</th>\n",
       "      <th>FLAG_DOCUMENT_18</th>\n",
       "      <th>FLAG_DOCUMENT_19</th>\n",
       "      <th>FLAG_DOCUMENT_20</th>\n",
       "      <th>FLAG_DOCUMENT_21</th>\n",
       "      <th>AMT_REQ_CREDIT_BUREAU_HOUR</th>\n",
       "      <th>AMT_REQ_CREDIT_BUREAU_DAY</th>\n",
       "      <th>AMT_REQ_CREDIT_BUREAU_WEEK</th>\n",
       "      <th>AMT_REQ_CREDIT_BUREAU_MON</th>\n",
       "      <th>AMT_REQ_CREDIT_BUREAU_QRT</th>\n",
       "      <th>AMT_REQ_CREDIT_BUREAU_YEAR</th>\n",
       "    </tr>\n",
       "    <tr>\n",
       "      <th>SK_ID_CURR</th>\n",
       "      <th></th>\n",
       "      <th></th>\n",
       "      <th></th>\n",
       "      <th></th>\n",
       "      <th></th>\n",
       "      <th></th>\n",
       "      <th></th>\n",
       "      <th></th>\n",
       "      <th></th>\n",
       "      <th></th>\n",
       "      <th></th>\n",
       "      <th></th>\n",
       "      <th></th>\n",
       "      <th></th>\n",
       "      <th></th>\n",
       "      <th></th>\n",
       "      <th></th>\n",
       "      <th></th>\n",
       "      <th></th>\n",
       "      <th></th>\n",
       "      <th></th>\n",
       "    </tr>\n",
       "  </thead>\n",
       "  <tbody>\n",
       "    <tr>\n",
       "      <th>100002</th>\n",
       "      <td>1</td>\n",
       "      <td>Cash loans</td>\n",
       "      <td>M</td>\n",
       "      <td>N</td>\n",
       "      <td>Y</td>\n",
       "      <td>0</td>\n",
       "      <td>202500.0</td>\n",
       "      <td>406597.5</td>\n",
       "      <td>24700.5</td>\n",
       "      <td>351000.0</td>\n",
       "      <td>...</td>\n",
       "      <td>0</td>\n",
       "      <td>0</td>\n",
       "      <td>0</td>\n",
       "      <td>0</td>\n",
       "      <td>0.0</td>\n",
       "      <td>0.0</td>\n",
       "      <td>0.0</td>\n",
       "      <td>0.0</td>\n",
       "      <td>0.0</td>\n",
       "      <td>1.0</td>\n",
       "    </tr>\n",
       "    <tr>\n",
       "      <th>100003</th>\n",
       "      <td>0</td>\n",
       "      <td>Cash loans</td>\n",
       "      <td>F</td>\n",
       "      <td>N</td>\n",
       "      <td>N</td>\n",
       "      <td>0</td>\n",
       "      <td>270000.0</td>\n",
       "      <td>1293502.5</td>\n",
       "      <td>35698.5</td>\n",
       "      <td>1129500.0</td>\n",
       "      <td>...</td>\n",
       "      <td>0</td>\n",
       "      <td>0</td>\n",
       "      <td>0</td>\n",
       "      <td>0</td>\n",
       "      <td>0.0</td>\n",
       "      <td>0.0</td>\n",
       "      <td>0.0</td>\n",
       "      <td>0.0</td>\n",
       "      <td>0.0</td>\n",
       "      <td>0.0</td>\n",
       "    </tr>\n",
       "    <tr>\n",
       "      <th>100004</th>\n",
       "      <td>0</td>\n",
       "      <td>Revolving loans</td>\n",
       "      <td>M</td>\n",
       "      <td>Y</td>\n",
       "      <td>Y</td>\n",
       "      <td>0</td>\n",
       "      <td>67500.0</td>\n",
       "      <td>135000.0</td>\n",
       "      <td>6750.0</td>\n",
       "      <td>135000.0</td>\n",
       "      <td>...</td>\n",
       "      <td>0</td>\n",
       "      <td>0</td>\n",
       "      <td>0</td>\n",
       "      <td>0</td>\n",
       "      <td>0.0</td>\n",
       "      <td>0.0</td>\n",
       "      <td>0.0</td>\n",
       "      <td>0.0</td>\n",
       "      <td>0.0</td>\n",
       "      <td>0.0</td>\n",
       "    </tr>\n",
       "    <tr>\n",
       "      <th>100006</th>\n",
       "      <td>0</td>\n",
       "      <td>Cash loans</td>\n",
       "      <td>F</td>\n",
       "      <td>N</td>\n",
       "      <td>Y</td>\n",
       "      <td>0</td>\n",
       "      <td>135000.0</td>\n",
       "      <td>312682.5</td>\n",
       "      <td>29686.5</td>\n",
       "      <td>297000.0</td>\n",
       "      <td>...</td>\n",
       "      <td>0</td>\n",
       "      <td>0</td>\n",
       "      <td>0</td>\n",
       "      <td>0</td>\n",
       "      <td>NaN</td>\n",
       "      <td>NaN</td>\n",
       "      <td>NaN</td>\n",
       "      <td>NaN</td>\n",
       "      <td>NaN</td>\n",
       "      <td>NaN</td>\n",
       "    </tr>\n",
       "    <tr>\n",
       "      <th>100007</th>\n",
       "      <td>0</td>\n",
       "      <td>Cash loans</td>\n",
       "      <td>M</td>\n",
       "      <td>N</td>\n",
       "      <td>Y</td>\n",
       "      <td>0</td>\n",
       "      <td>121500.0</td>\n",
       "      <td>513000.0</td>\n",
       "      <td>21865.5</td>\n",
       "      <td>513000.0</td>\n",
       "      <td>...</td>\n",
       "      <td>0</td>\n",
       "      <td>0</td>\n",
       "      <td>0</td>\n",
       "      <td>0</td>\n",
       "      <td>0.0</td>\n",
       "      <td>0.0</td>\n",
       "      <td>0.0</td>\n",
       "      <td>0.0</td>\n",
       "      <td>0.0</td>\n",
       "      <td>0.0</td>\n",
       "    </tr>\n",
       "  </tbody>\n",
       "</table>\n",
       "<p>5 rows × 121 columns</p>\n",
       "</div>"
      ],
      "text/plain": [
       "            TARGET NAME_CONTRACT_TYPE CODE_GENDER FLAG_OWN_CAR  \\\n",
       "SK_ID_CURR                                                       \n",
       "100002           1         Cash loans           M            N   \n",
       "100003           0         Cash loans           F            N   \n",
       "100004           0    Revolving loans           M            Y   \n",
       "100006           0         Cash loans           F            N   \n",
       "100007           0         Cash loans           M            N   \n",
       "\n",
       "           FLAG_OWN_REALTY  CNT_CHILDREN  AMT_INCOME_TOTAL  AMT_CREDIT  \\\n",
       "SK_ID_CURR                                                               \n",
       "100002                   Y             0          202500.0    406597.5   \n",
       "100003                   N             0          270000.0   1293502.5   \n",
       "100004                   Y             0           67500.0    135000.0   \n",
       "100006                   Y             0          135000.0    312682.5   \n",
       "100007                   Y             0          121500.0    513000.0   \n",
       "\n",
       "            AMT_ANNUITY  AMT_GOODS_PRICE             ...              \\\n",
       "SK_ID_CURR                                           ...               \n",
       "100002          24700.5         351000.0             ...               \n",
       "100003          35698.5        1129500.0             ...               \n",
       "100004           6750.0         135000.0             ...               \n",
       "100006          29686.5         297000.0             ...               \n",
       "100007          21865.5         513000.0             ...               \n",
       "\n",
       "           FLAG_DOCUMENT_18 FLAG_DOCUMENT_19 FLAG_DOCUMENT_20  \\\n",
       "SK_ID_CURR                                                      \n",
       "100002                    0                0                0   \n",
       "100003                    0                0                0   \n",
       "100004                    0                0                0   \n",
       "100006                    0                0                0   \n",
       "100007                    0                0                0   \n",
       "\n",
       "           FLAG_DOCUMENT_21 AMT_REQ_CREDIT_BUREAU_HOUR  \\\n",
       "SK_ID_CURR                                               \n",
       "100002                    0                        0.0   \n",
       "100003                    0                        0.0   \n",
       "100004                    0                        0.0   \n",
       "100006                    0                        NaN   \n",
       "100007                    0                        0.0   \n",
       "\n",
       "            AMT_REQ_CREDIT_BUREAU_DAY  AMT_REQ_CREDIT_BUREAU_WEEK  \\\n",
       "SK_ID_CURR                                                          \n",
       "100002                            0.0                         0.0   \n",
       "100003                            0.0                         0.0   \n",
       "100004                            0.0                         0.0   \n",
       "100006                            NaN                         NaN   \n",
       "100007                            0.0                         0.0   \n",
       "\n",
       "            AMT_REQ_CREDIT_BUREAU_MON  AMT_REQ_CREDIT_BUREAU_QRT  \\\n",
       "SK_ID_CURR                                                         \n",
       "100002                            0.0                        0.0   \n",
       "100003                            0.0                        0.0   \n",
       "100004                            0.0                        0.0   \n",
       "100006                            NaN                        NaN   \n",
       "100007                            0.0                        0.0   \n",
       "\n",
       "            AMT_REQ_CREDIT_BUREAU_YEAR  \n",
       "SK_ID_CURR                              \n",
       "100002                             1.0  \n",
       "100003                             0.0  \n",
       "100004                             0.0  \n",
       "100006                             NaN  \n",
       "100007                             0.0  \n",
       "\n",
       "[5 rows x 121 columns]"
      ]
     },
     "execution_count": 172,
     "metadata": {},
     "output_type": "execute_result"
    }
   ],
   "source": [
    "train.head()"
   ]
  },
  {
   "cell_type": "code",
   "execution_count": 173,
   "metadata": {},
   "outputs": [
    {
     "name": "stdout",
     "output_type": "stream",
     "text": [
      "<class 'pandas.core.frame.DataFrame'>\n",
      "Int64Index: 307511 entries, 100002 to 456255\n",
      "Columns: 121 entries, TARGET to AMT_REQ_CREDIT_BUREAU_YEAR\n",
      "dtypes: float64(65), int64(40), object(16)\n",
      "memory usage: 286.2+ MB\n"
     ]
    },
    {
     "data": {
      "text/plain": [
       "TARGET                        307511\n",
       "NAME_CONTRACT_TYPE            307511\n",
       "CODE_GENDER                   307511\n",
       "FLAG_OWN_CAR                  307511\n",
       "FLAG_OWN_REALTY               307511\n",
       "CNT_CHILDREN                  307511\n",
       "AMT_INCOME_TOTAL              307511\n",
       "AMT_CREDIT                    307511\n",
       "AMT_ANNUITY                   307499\n",
       "AMT_GOODS_PRICE               307233\n",
       "NAME_TYPE_SUITE               306219\n",
       "NAME_INCOME_TYPE              307511\n",
       "NAME_EDUCATION_TYPE           307511\n",
       "NAME_FAMILY_STATUS            307511\n",
       "NAME_HOUSING_TYPE             307511\n",
       "REGION_POPULATION_RELATIVE    307511\n",
       "DAYS_BIRTH                    307511\n",
       "DAYS_EMPLOYED                 307511\n",
       "DAYS_REGISTRATION             307511\n",
       "DAYS_ID_PUBLISH               307511\n",
       "OWN_CAR_AGE                   104582\n",
       "FLAG_MOBIL                    307511\n",
       "FLAG_EMP_PHONE                307511\n",
       "FLAG_WORK_PHONE               307511\n",
       "FLAG_CONT_MOBILE              307511\n",
       "FLAG_PHONE                    307511\n",
       "FLAG_EMAIL                    307511\n",
       "OCCUPATION_TYPE               211120\n",
       "CNT_FAM_MEMBERS               307509\n",
       "REGION_RATING_CLIENT          307511\n",
       "                               ...  \n",
       "DEF_30_CNT_SOCIAL_CIRCLE      306490\n",
       "OBS_60_CNT_SOCIAL_CIRCLE      306490\n",
       "DEF_60_CNT_SOCIAL_CIRCLE      306490\n",
       "DAYS_LAST_PHONE_CHANGE        307510\n",
       "FLAG_DOCUMENT_2               307511\n",
       "FLAG_DOCUMENT_3               307511\n",
       "FLAG_DOCUMENT_4               307511\n",
       "FLAG_DOCUMENT_5               307511\n",
       "FLAG_DOCUMENT_6               307511\n",
       "FLAG_DOCUMENT_7               307511\n",
       "FLAG_DOCUMENT_8               307511\n",
       "FLAG_DOCUMENT_9               307511\n",
       "FLAG_DOCUMENT_10              307511\n",
       "FLAG_DOCUMENT_11              307511\n",
       "FLAG_DOCUMENT_12              307511\n",
       "FLAG_DOCUMENT_13              307511\n",
       "FLAG_DOCUMENT_14              307511\n",
       "FLAG_DOCUMENT_15              307511\n",
       "FLAG_DOCUMENT_16              307511\n",
       "FLAG_DOCUMENT_17              307511\n",
       "FLAG_DOCUMENT_18              307511\n",
       "FLAG_DOCUMENT_19              307511\n",
       "FLAG_DOCUMENT_20              307511\n",
       "FLAG_DOCUMENT_21              307511\n",
       "AMT_REQ_CREDIT_BUREAU_HOUR    265992\n",
       "AMT_REQ_CREDIT_BUREAU_DAY     265992\n",
       "AMT_REQ_CREDIT_BUREAU_WEEK    265992\n",
       "AMT_REQ_CREDIT_BUREAU_MON     265992\n",
       "AMT_REQ_CREDIT_BUREAU_QRT     265992\n",
       "AMT_REQ_CREDIT_BUREAU_YEAR    265992\n",
       "Length: 121, dtype: int64"
      ]
     },
     "execution_count": 173,
     "metadata": {},
     "output_type": "execute_result"
    }
   ],
   "source": [
    "train.describe()\n",
    "train.info()\n",
    "train.count()"
   ]
  },
  {
   "cell_type": "code",
   "execution_count": 174,
   "metadata": {},
   "outputs": [
    {
     "name": "stdout",
     "output_type": "stream",
     "text": [
      "0    282686\n",
      "1     24825\n",
      "Name: TARGET, dtype: int64\n"
     ]
    },
    {
     "data": {
      "text/plain": [
       "<matplotlib.axes._subplots.AxesSubplot at 0x1e184125860>"
      ]
     },
     "execution_count": 174,
     "metadata": {},
     "output_type": "execute_result"
    },
    {
     "data": {
      "image/png": "[encoded data removed]",
      "text/plain": [
       "<Figure size 432x288 with 1 Axes>"
      ]
     },
     "metadata": {
      "needs_background": "light"
     },
     "output_type": "display_data"
    }
   ],
   "source": [
    "print(train['TARGET'].value_counts())\n",
    "train['TARGET'].astype(int).plot.hist()"
   ]
  },
  {
   "cell_type": "code",
   "execution_count": 175,
   "metadata": {},
   "outputs": [
    {
     "name": "stdout",
     "output_type": "stream",
     "text": [
      "8.072881945686495\n"
     ]
    }
   ],
   "source": [
    "bad_ratio_train=100*train['TARGET'].sum()/len(train)\n",
    "print(bad_ratio_train)"
   ]
  },
  {
   "cell_type": "code",
   "execution_count": 176,
   "metadata": {},
   "outputs": [
    {
     "data": {
      "text/plain": [
       "['Cash loans', 'Revolving loans']"
      ]
     },
     "execution_count": 176,
     "metadata": {},
     "output_type": "execute_result"
    }
   ],
   "source": [
    "list(train['NAME_CONTRACT_TYPE'].unique())\n",
    "\n"
   ]
  },
  {
   "cell_type": "code",
   "execution_count": 177,
   "metadata": {},
   "outputs": [],
   "source": [
    "filter=train.NAME_CONTRACT_TYPE=='Revolving loans'\n"
   ]
  },
  {
   "cell_type": "code",
   "execution_count": null,
   "metadata": {},
   "outputs": [],
   "source": [
    "train=train[filter]"
   ]
  },
  {
   "cell_type": "code",
   "execution_count": 179,
   "metadata": {},
   "outputs": [
    {
     "data": {
      "text/plain": [
       "TARGET                        29279\n",
       "NAME_CONTRACT_TYPE            29279\n",
       "CODE_GENDER                   29279\n",
       "FLAG_OWN_CAR                  29279\n",
       "FLAG_OWN_REALTY               29279\n",
       "CNT_CHILDREN                  29279\n",
       "AMT_INCOME_TOTAL              29279\n",
       "AMT_CREDIT                    29279\n",
       "AMT_ANNUITY                   29279\n",
       "AMT_GOODS_PRICE               29001\n",
       "NAME_TYPE_SUITE               28994\n",
       "NAME_INCOME_TYPE              29279\n",
       "NAME_EDUCATION_TYPE           29279\n",
       "NAME_FAMILY_STATUS            29279\n",
       "NAME_HOUSING_TYPE             29279\n",
       "REGION_POPULATION_RELATIVE    29279\n",
       "DAYS_BIRTH                    29279\n",
       "DAYS_EMPLOYED                 29279\n",
       "DAYS_REGISTRATION             29279\n",
       "DAYS_ID_PUBLISH               29279\n",
       "OWN_CAR_AGE                   10130\n",
       "FLAG_MOBIL                    29279\n",
       "FLAG_EMP_PHONE                29279\n",
       "FLAG_WORK_PHONE               29279\n",
       "FLAG_CONT_MOBILE              29279\n",
       "FLAG_PHONE                    29279\n",
       "FLAG_EMAIL                    29279\n",
       "OCCUPATION_TYPE               21688\n",
       "CNT_FAM_MEMBERS               29277\n",
       "REGION_RATING_CLIENT          29279\n",
       "                              ...  \n",
       "DEF_30_CNT_SOCIAL_CIRCLE      28259\n",
       "OBS_60_CNT_SOCIAL_CIRCLE      28259\n",
       "DEF_60_CNT_SOCIAL_CIRCLE      28259\n",
       "DAYS_LAST_PHONE_CHANGE        29279\n",
       "FLAG_DOCUMENT_2               29279\n",
       "FLAG_DOCUMENT_3               29279\n",
       "FLAG_DOCUMENT_4               29279\n",
       "FLAG_DOCUMENT_5               29279\n",
       "FLAG_DOCUMENT_6               29279\n",
       "FLAG_DOCUMENT_7               29279\n",
       "FLAG_DOCUMENT_8               29279\n",
       "FLAG_DOCUMENT_9               29279\n",
       "FLAG_DOCUMENT_10              29279\n",
       "FLAG_DOCUMENT_11              29279\n",
       "FLAG_DOCUMENT_12              29279\n",
       "FLAG_DOCUMENT_13              29279\n",
       "FLAG_DOCUMENT_14              29279\n",
       "FLAG_DOCUMENT_15              29279\n",
       "FLAG_DOCUMENT_16              29279\n",
       "FLAG_DOCUMENT_17              29279\n",
       "FLAG_DOCUMENT_18              29279\n",
       "FLAG_DOCUMENT_19              29279\n",
       "FLAG_DOCUMENT_20              29279\n",
       "FLAG_DOCUMENT_21              29279\n",
       "AMT_REQ_CREDIT_BUREAU_HOUR    24999\n",
       "AMT_REQ_CREDIT_BUREAU_DAY     24999\n",
       "AMT_REQ_CREDIT_BUREAU_WEEK    24999\n",
       "AMT_REQ_CREDIT_BUREAU_MON     24999\n",
       "AMT_REQ_CREDIT_BUREAU_QRT     24999\n",
       "AMT_REQ_CREDIT_BUREAU_YEAR    24999\n",
       "Length: 121, dtype: int64"
      ]
     },
     "execution_count": 179,
     "metadata": {},
     "output_type": "execute_result"
    }
   ],
   "source": [
    "\n",
    "train.count()\n",
    "\n"
   ]
  },
  {
   "cell_type": "code",
   "execution_count": 180,
   "metadata": {},
   "outputs": [
    {
     "name": "stdout",
     "output_type": "stream",
     "text": [
      "5.478329177909082\n"
     ]
    }
   ],
   "source": [
    "new_bad_ratio_train=100*train['TARGET'].sum()/len(train)\n",
    "print(new_bad_ratio_train)"
   ]
  },
  {
   "cell_type": "code",
   "execution_count": 181,
   "metadata": {},
   "outputs": [
    {
     "data": {
      "text/plain": [
       "count    29279.000000\n",
       "mean        40.753905\n",
       "std         12.013878\n",
       "min         21.030137\n",
       "25%         30.871233\n",
       "50%         39.953425\n",
       "75%         50.323288\n",
       "max         69.120548\n",
       "Name: AGE, dtype: float64"
      ]
     },
     "execution_count": 181,
     "metadata": {},
     "output_type": "execute_result"
    }
   ],
   "source": [
    "train[\"AGE\"]=[ each/-365 for each in train.DAYS_BIRTH]\n",
    "train[\"AGE\"].describe()"
   ]
  },
  {
   "cell_type": "code",
   "execution_count": 182,
   "metadata": {},
   "outputs": [],
   "source": [
    "train.drop([\"DAYS_BIRTH\"],axis=1,inplace=True)"
   ]
  },
  {
   "cell_type": "code",
   "execution_count": 184,
   "metadata": {},
   "outputs": [],
   "source": [
    "train.drop([\"NAME_CONTRACT_TYPE\"],axis=1,inplace=True)"
   ]
  },
  {
   "cell_type": "code",
   "execution_count": 185,
   "metadata": {},
   "outputs": [
    {
     "name": "stdout",
     "output_type": "stream",
     "text": [
      "There are 3366 anomalies in the test data out of 29279 entries\n"
     ]
    }
   ],
   "source": [
    "train['DAYS_EMPLOYED_ANOM'] = train[\"DAYS_EMPLOYED\"] == 365243\n",
    "train[\"DAYS_EMPLOYED\"].replace({365243: np.nan}, inplace = True)\n",
    "\n",
    "print('There are %d anomalies in the test data out of %d entries' % (train[\"DAYS_EMPLOYED_ANOM\"].sum(), len(train)))"
   ]
  },
  {
   "cell_type": "code",
   "execution_count": 19,
   "metadata": {},
   "outputs": [],
   "source": [
    "train[\"DAYS_EMPLOYED\"]=[each*-1 if each<0 else each for each in train.DAYS_EMPLOYED]\n",
    "\n"
   ]
  },
  {
   "cell_type": "code",
   "execution_count": 188,
   "metadata": {},
   "outputs": [],
   "source": [
    "train[\"JOB_YEAR\"]=[(each*-1)/365 if each<0 else  each/365 for each in train.DAYS_EMPLOYED]\n",
    "\n"
   ]
  },
  {
   "cell_type": "code",
   "execution_count": 189,
   "metadata": {},
   "outputs": [
    {
     "data": {
      "text/plain": [
       "count    25913.000000\n",
       "mean         5.843183\n",
       "std          6.048593\n",
       "min          0.008219\n",
       "25%          1.819178\n",
       "50%          3.824658\n",
       "75%          7.723288\n",
       "max         44.482192\n",
       "Name: JOB_YEAR, dtype: float64"
      ]
     },
     "execution_count": 189,
     "metadata": {},
     "output_type": "execute_result"
    }
   ],
   "source": [
    "train[\"JOB_YEAR\"].describe()"
   ]
  },
  {
   "cell_type": "code",
   "execution_count": 29,
   "metadata": {},
   "outputs": [],
   "source": [
    "\n",
    "for col in train:\n",
    "    if train.columns.dtype=='object':\n",
    "         print(col)   "
   ]
  },
  {
   "cell_type": "code",
   "execution_count": 191,
   "metadata": {},
   "outputs": [
    {
     "data": {
      "text/plain": [
       "['M', 'F', 'XNA']"
      ]
     },
     "execution_count": 191,
     "metadata": {},
     "output_type": "execute_result"
    }
   ],
   "source": [
    "list(train['CODE_GENDER'].unique())"
   ]
  },
  {
   "cell_type": "code",
   "execution_count": 192,
   "metadata": {},
   "outputs": [],
   "source": [
    "train[\"CODE_GENDER\"]=['F' if each=='XNA' else each for each in train.CODE_GENDER]"
   ]
  },
  {
   "cell_type": "code",
   "execution_count": 193,
   "metadata": {},
   "outputs": [],
   "source": [
    "from sklearn import preprocessing\n",
    "le_sex = preprocessing.LabelEncoder()\n",
    "le_sex.fit(['F','M'])\n",
    "train['CODE_GENDER']= le_sex.transform(train['CODE_GENDER']) \n"
   ]
  },
  {
   "cell_type": "code",
   "execution_count": 194,
   "metadata": {},
   "outputs": [
    {
     "data": {
      "text/plain": [
       "['Y', 'N']"
      ]
     },
     "execution_count": 194,
     "metadata": {},
     "output_type": "execute_result"
    }
   ],
   "source": [
    "list(train['FLAG_OWN_CAR'].unique())\n"
   ]
  },
  {
   "cell_type": "code",
   "execution_count": 195,
   "metadata": {},
   "outputs": [],
   "source": [
    "from sklearn import preprocessing\n",
    "le_car = preprocessing.LabelEncoder()\n",
    "le_car.fit(['N','Y'])\n",
    "train['FLAG_OWN_CAR']= le_car.transform(train['FLAG_OWN_CAR']) \n"
   ]
  },
  {
   "cell_type": "code",
   "execution_count": 196,
   "metadata": {},
   "outputs": [
    {
     "data": {
      "text/plain": [
       "['Working',\n",
       " 'State servant',\n",
       " 'Commercial associate',\n",
       " 'Pensioner',\n",
       " 'Unemployed',\n",
       " 'Businessman',\n",
       " 'Maternity leave',\n",
       " 'Student']"
      ]
     },
     "execution_count": 196,
     "metadata": {},
     "output_type": "execute_result"
    }
   ],
   "source": [
    "list(train['NAME_INCOME_TYPE'].unique())\n"
   ]
  },
  {
   "cell_type": "code",
   "execution_count": 197,
   "metadata": {},
   "outputs": [],
   "source": [
    "from sklearn import preprocessing\n",
    "le_Income= preprocessing.LabelEncoder()\n",
    "le_Income.fit(\n",
    "['Working',\n",
    " 'State servant',\n",
    " 'Commercial associate',\n",
    " 'Pensioner',\n",
    " 'Unemployed',\n",
    " 'Student',\n",
    " 'Businessman',\n",
    " 'Maternity leave'])\n",
    "train['NAME_INCOME_TYPE']= le_Income.transform(train['NAME_INCOME_TYPE'])"
   ]
  },
  {
   "cell_type": "code",
   "execution_count": 198,
   "metadata": {},
   "outputs": [
    {
     "data": {
      "text/plain": [
       "['Secondary / secondary special',\n",
       " 'Higher education',\n",
       " 'Incomplete higher',\n",
       " 'Lower secondary',\n",
       " 'Academic degree']"
      ]
     },
     "execution_count": 198,
     "metadata": {},
     "output_type": "execute_result"
    }
   ],
   "source": [
    "list(train['NAME_EDUCATION_TYPE'].unique())"
   ]
  },
  {
   "cell_type": "code",
   "execution_count": 199,
   "metadata": {},
   "outputs": [],
   "source": [
    "le_education= preprocessing.LabelEncoder()\n",
    "le_education.fit(\n",
    "['Secondary / secondary special',\n",
    " 'Higher education',\n",
    " 'Incomplete higher',\n",
    " 'Lower secondary',\n",
    " 'Academic degree'])\n",
    "train['NAME_EDUCATION_TYPE']= le_education.transform(train['NAME_EDUCATION_TYPE'])"
   ]
  },
  {
   "cell_type": "code",
   "execution_count": 205,
   "metadata": {},
   "outputs": [
    {
     "data": {
      "text/plain": [
       "[3, 1, 5, 0, 2, 4]"
      ]
     },
     "execution_count": 205,
     "metadata": {},
     "output_type": "execute_result"
    }
   ],
   "source": [
    "list(train['NAME_FAMILY_STATUS'].unique())"
   ]
  },
  {
   "cell_type": "code",
   "execution_count": 204,
   "metadata": {},
   "outputs": [],
   "source": [
    "le_family= preprocessing.LabelEncoder()\n",
    "le_family.fit(\n",
    "['Single / not married',\n",
    " 'Married',\n",
    " 'Civil marriage',\n",
    " 'Widow',\n",
    " 'Separated',\n",
    " 'Unknown'])\n",
    "train['NAME_FAMILY_STATUS']= le_family.transform(train['NAME_FAMILY_STATUS'])"
   ]
  },
  {
   "cell_type": "code",
   "execution_count": 206,
   "metadata": {},
   "outputs": [
    {
     "data": {
      "text/plain": [
       "['House / apartment',\n",
       " 'With parents',\n",
       " 'Municipal apartment',\n",
       " 'Rented apartment',\n",
       " 'Co-op apartment',\n",
       " 'Office apartment']"
      ]
     },
     "execution_count": 206,
     "metadata": {},
     "output_type": "execute_result"
    }
   ],
   "source": [
    "list(train['NAME_HOUSING_TYPE'].unique())\n"
   ]
  },
  {
   "cell_type": "code",
   "execution_count": 207,
   "metadata": {},
   "outputs": [],
   "source": [
    "le_housing= preprocessing.LabelEncoder()\n",
    "le_housing.fit(\n",
    "['House / apartment',\n",
    " 'Rented apartment',\n",
    " 'With parents',\n",
    " 'Municipal apartment',\n",
    " 'Office apartment',\n",
    " 'Co-op apartment'])\n",
    "train['NAME_HOUSING_TYPE']= le_housing.transform(train['NAME_HOUSING_TYPE'])"
   ]
  },
  {
   "cell_type": "code",
   "execution_count": 208,
   "metadata": {},
   "outputs": [],
   "source": [
    "\n",
    "train.drop([\"WEEKDAY_APPR_PROCESS_START\"],axis=1,inplace=True)\n"
   ]
  },
  {
   "cell_type": "code",
   "execution_count": 211,
   "metadata": {},
   "outputs": [
    {
     "data": {
      "text/plain": [
       "[11,\n",
       " 9,\n",
       " 7,\n",
       " 13,\n",
       " 42,\n",
       " 5,\n",
       " 39,\n",
       " 40,\n",
       " 28,\n",
       " 51,\n",
       " 54,\n",
       " 30,\n",
       " 55,\n",
       " 3,\n",
       " 20,\n",
       " 12,\n",
       " 57,\n",
       " 4,\n",
       " 27,\n",
       " 33,\n",
       " 46,\n",
       " 2,\n",
       " 31,\n",
       " 14,\n",
       " 53,\n",
       " 10,\n",
       " 47,\n",
       " 41,\n",
       " 49,\n",
       " 17,\n",
       " 26,\n",
       " 16,\n",
       " 48,\n",
       " 24,\n",
       " 34,\n",
       " 38,\n",
       " 19,\n",
       " 1,\n",
       " 21,\n",
       " 56,\n",
       " 43,\n",
       " 35,\n",
       " 15,\n",
       " 44,\n",
       " 29,\n",
       " 8,\n",
       " 0,\n",
       " 50,\n",
       " 22,\n",
       " 6,\n",
       " 45,\n",
       " 32,\n",
       " 36,\n",
       " 25,\n",
       " 18,\n",
       " 37,\n",
       " 52,\n",
       " 23]"
      ]
     },
     "execution_count": 211,
     "metadata": {},
     "output_type": "execute_result"
    }
   ],
   "source": [
    "list(train['ORGANIZATION_TYPE'].unique())"
   ]
  },
  {
   "cell_type": "code",
   "execution_count": 210,
   "metadata": {},
   "outputs": [],
   "source": [
    "le_org= preprocessing.LabelEncoder()\n",
    "le_org.fit(\n",
    "['Business Entity Type 3',\n",
    " 'School',\n",
    " 'Government',\n",
    " 'Religion',\n",
    " 'Other',\n",
    " 'XNA',\n",
    " 'Electricity',\n",
    " 'Medicine',\n",
    " 'Business Entity Type 2',\n",
    " 'Self-employed',\n",
    " 'Transport: type 2',\n",
    " 'Construction',\n",
    " 'Housing',\n",
    " 'Kindergarten',\n",
    " 'Trade: type 7',\n",
    " 'Industry: type 11',\n",
    " 'Military',\n",
    " 'Services',\n",
    " 'Security Ministries',\n",
    " 'Transport: type 4',\n",
    " 'Industry: type 1',\n",
    " 'Emergency',\n",
    " 'Security',\n",
    " 'Trade: type 2',\n",
    " 'University',\n",
    " 'Transport: type 3',\n",
    " 'Police',\n",
    " 'Business Entity Type 1',\n",
    " 'Postal',\n",
    " 'Industry: type 4',\n",
    " 'Agriculture',\n",
    " 'Restaurant',\n",
    " 'Culture',\n",
    " 'Hotel',\n",
    " 'Industry: type 7',\n",
    " 'Trade: type 3',\n",
    " 'Industry: type 3',\n",
    " 'Bank',\n",
    " 'Industry: type 9',\n",
    " 'Insurance',\n",
    " 'Trade: type 6',\n",
    " 'Industry: type 2',\n",
    " 'Transport: type 1',\n",
    " 'Industry: type 12',\n",
    " 'Mobile',\n",
    " 'Trade: type 1',\n",
    " 'Industry: type 5',\n",
    " 'Industry: type 10',\n",
    " 'Legal Services',\n",
    " 'Advertising',\n",
    " 'Trade: type 5',\n",
    " 'Cleaning',\n",
    " 'Industry: type 13',\n",
    " 'Trade: type 4',\n",
    " 'Telecom',\n",
    " 'Industry: type 8',\n",
    " 'Realtor',\n",
    " 'Industry: type 6'])\n",
    "train['ORGANIZATION_TYPE']= le_org.transform(train['ORGANIZATION_TYPE'])"
   ]
  },
  {
   "cell_type": "code",
   "execution_count": 212,
   "metadata": {},
   "outputs": [
    {
     "data": {
      "text/plain": [
       "['Y', 'N']"
      ]
     },
     "execution_count": 212,
     "metadata": {},
     "output_type": "execute_result"
    }
   ],
   "source": [
    "list(train['FLAG_OWN_REALTY'].unique())"
   ]
  },
  {
   "cell_type": "code",
   "execution_count": 213,
   "metadata": {},
   "outputs": [],
   "source": [
    "\n",
    "le_ownrea= preprocessing.LabelEncoder()\n",
    "le_ownrea.fit(\n",
    "['Y', 'N'])\n",
    "train['FLAG_OWN_REALTY']= le_ownrea.transform(train['FLAG_OWN_REALTY'])\n"
   ]
  },
  {
   "cell_type": "code",
   "execution_count": 225,
   "metadata": {},
   "outputs": [
    {
     "data": {
      "text/plain": [
       "[7, 3, 1, 5, 0, 4, 6, 2]"
      ]
     },
     "execution_count": 225,
     "metadata": {},
     "output_type": "execute_result"
    }
   ],
   "source": [
    "list(train['NAME_TYPE_SUITE'].unique())"
   ]
  },
  {
   "cell_type": "code",
   "execution_count": 217,
   "metadata": {},
   "outputs": [],
   "source": [
    "\n",
    "\n",
    "train[\"NAME_TYPE_SUITE\"].fillna(\"UNKNOW\", inplace = True) "
   ]
  },
  {
   "cell_type": "code",
   "execution_count": 224,
   "metadata": {},
   "outputs": [],
   "source": [
    "le_nametype= preprocessing.LabelEncoder()\n",
    "le_nametype.fit(\n",
    "['Unaccompanied',\n",
    " 'Other_A',\n",
    " 'Family',\n",
    " 'Spouse, partner',\n",
    " 'Children',\n",
    " 'Other_B',\n",
    " 'UNKNOW',\n",
    " 'Group of people'])\n",
    "train['NAME_TYPE_SUITE']= le_nametype.transform(train['NAME_TYPE_SUITE'])"
   ]
  },
  {
   "cell_type": "code",
   "execution_count": 230,
   "metadata": {},
   "outputs": [
    {
     "data": {
      "text/plain": [
       "[0, 3, 2, 4, 1]"
      ]
     },
     "execution_count": 230,
     "metadata": {},
     "output_type": "execute_result"
    }
   ],
   "source": [
    "\n",
    "list(train['FONDKAPREMONT_MODE'].unique())\n"
   ]
  },
  {
   "cell_type": "code",
   "execution_count": 229,
   "metadata": {},
   "outputs": [],
   "source": [
    "train[\"FONDKAPREMONT_MODE\"].fillna(\"UNKNOW\", inplace = True) "
   ]
  },
  {
   "cell_type": "code",
   "execution_count": 228,
   "metadata": {},
   "outputs": [],
   "source": [
    "\n",
    "le_fond= preprocessing.LabelEncoder()\n",
    "le_fond.fit(\n",
    "['UNKNOW',\n",
    " 'reg oper account',\n",
    " 'org spec account',\n",
    " 'reg oper spec account',\n",
    " 'not specified'])\n",
    "train['FONDKAPREMONT_MODE']= le_fond.transform(train['FONDKAPREMONT_MODE'])"
   ]
  },
  {
   "cell_type": "code",
   "execution_count": 115,
   "metadata": {},
   "outputs": [],
   "source": [
    "train.drop([\"NAME_TYPE_SUITE\"],axis=1,inplace=True)"
   ]
  },
  {
   "cell_type": "code",
   "execution_count": 231,
   "metadata": {},
   "outputs": [
    {
     "data": {
      "text/plain": [
       "[nan,\n",
       " 'Stone, brick',\n",
       " 'Panel',\n",
       " 'Block',\n",
       " 'Monolithic',\n",
       " 'Mixed',\n",
       " 'Others',\n",
       " 'Wooden']"
      ]
     },
     "execution_count": 231,
     "metadata": {},
     "output_type": "execute_result"
    }
   ],
   "source": [
    "\n",
    "list(train['WALLSMATERIAL_MODE'].unique())"
   ]
  },
  {
   "cell_type": "code",
   "execution_count": 232,
   "metadata": {},
   "outputs": [],
   "source": [
    "train[\"WALLSMATERIAL_MODE\"].fillna(\"UNKNOW\", inplace = True) "
   ]
  },
  {
   "cell_type": "code",
   "execution_count": 233,
   "metadata": {},
   "outputs": [],
   "source": [
    "le_wall= preprocessing.LabelEncoder()\n",
    "le_wall.fit(\n",
    "['Stone, brick',\n",
    " 'Block',\n",
    " 'UNKNOW',\n",
    " 'Panel',\n",
    " 'Mixed',\n",
    " 'Wooden',\n",
    " 'Others',\n",
    " 'Monolithic'])\n",
    "train['WALLSMATERIAL_MODE']= le_wall.transform(train['WALLSMATERIAL_MODE'])\n",
    "\n"
   ]
  },
  {
   "cell_type": "code",
   "execution_count": 234,
   "metadata": {},
   "outputs": [
    {
     "data": {
      "text/plain": [
       "[nan, 'No', 'Yes']"
      ]
     },
     "execution_count": 234,
     "metadata": {},
     "output_type": "execute_result"
    }
   ],
   "source": [
    "list(train['EMERGENCYSTATE_MODE'].unique())"
   ]
  },
  {
   "cell_type": "code",
   "execution_count": 235,
   "metadata": {},
   "outputs": [],
   "source": [
    "train[\"EMERGENCYSTATE_MODE\"].fillna(\"UNKNOW\", inplace = True) "
   ]
  },
  {
   "cell_type": "code",
   "execution_count": 236,
   "metadata": {},
   "outputs": [],
   "source": [
    "le_emerg= preprocessing.LabelEncoder()\n",
    "le_emerg.fit(\n",
    "['No', 'UNKNOW', 'Yes'])\n",
    "train['EMERGENCYSTATE_MODE']= le_emerg.transform(train['EMERGENCYSTATE_MODE'])\n",
    "\n"
   ]
  },
  {
   "cell_type": "code",
   "execution_count": 237,
   "metadata": {},
   "outputs": [
    {
     "data": {
      "text/plain": [
       "[nan, 'block of flats', 'specific housing', 'terraced house']"
      ]
     },
     "execution_count": 237,
     "metadata": {},
     "output_type": "execute_result"
    }
   ],
   "source": [
    "\n",
    "list(train['HOUSETYPE_MODE'].unique())"
   ]
  },
  {
   "cell_type": "code",
   "execution_count": 239,
   "metadata": {},
   "outputs": [],
   "source": [
    "train[\"HOUSETYPE_MODE\"].fillna(\"UNKNOW\", inplace = True) "
   ]
  },
  {
   "cell_type": "code",
   "execution_count": 240,
   "metadata": {},
   "outputs": [],
   "source": [
    "le_house= preprocessing.LabelEncoder()\n",
    "le_house.fit(\n",
    "['block of flats','UNKNOW',  'terraced house', 'specific housing'])\n",
    "train['HOUSETYPE_MODE']= le_house.transform(train['HOUSETYPE_MODE'])"
   ]
  },
  {
   "cell_type": "code",
   "execution_count": 241,
   "metadata": {},
   "outputs": [
    {
     "data": {
      "text/plain": [
       "['Laborers',\n",
       " 'Managers',\n",
       " 'Sales staff',\n",
       " 'Core staff',\n",
       " 'Security staff',\n",
       " nan,\n",
       " 'Drivers',\n",
       " 'Medicine staff',\n",
       " 'Secretaries',\n",
       " 'High skill tech staff',\n",
       " 'Cooking staff',\n",
       " 'Accountants',\n",
       " 'Low-skill Laborers',\n",
       " 'HR staff',\n",
       " 'IT staff',\n",
       " 'Realty agents',\n",
       " 'Waiters/barmen staff',\n",
       " 'Cleaning staff',\n",
       " 'Private service staff']"
      ]
     },
     "execution_count": 241,
     "metadata": {},
     "output_type": "execute_result"
    }
   ],
   "source": [
    "list(train['OCCUPATION_TYPE'].unique())"
   ]
  },
  {
   "cell_type": "code",
   "execution_count": 242,
   "metadata": {},
   "outputs": [],
   "source": [
    "train[\"OCCUPATION_TYPE\"].fillna(\"UNKNOW\", inplace = True) "
   ]
  },
  {
   "cell_type": "code",
   "execution_count": 243,
   "metadata": {},
   "outputs": [],
   "source": [
    "le_occupation= preprocessing.LabelEncoder()\n",
    "le_occupation.fit(\n",
    "['Laborers',\n",
    " 'Core staff',\n",
    " 'Accountants',\n",
    " 'Managers',\n",
    " 'UNKNOW',\n",
    " 'Drivers',\n",
    " 'Sales staff',\n",
    " 'Cleaning staff',\n",
    " 'Cooking staff',\n",
    " 'Private service staff',\n",
    " 'Medicine staff',\n",
    " 'Security staff',\n",
    " 'High skill tech staff',\n",
    " 'Waiters/barmen staff',\n",
    " 'Low-skill Laborers',\n",
    " 'Realty agents',\n",
    " 'Secretaries',\n",
    " 'IT staff',\n",
    " 'HR staff'])\n",
    "train['OCCUPATION_TYPE']= le_occupation.transform(train['OCCUPATION_TYPE'])"
   ]
  },
  {
   "cell_type": "code",
   "execution_count": 245,
   "metadata": {},
   "outputs": [],
   "source": [
    "Y=train[\"TARGET\"].values"
   ]
  },
  {
   "cell_type": "code",
   "execution_count": 246,
   "metadata": {},
   "outputs": [],
   "source": [
    "X=train"
   ]
  },
  {
   "cell_type": "code",
   "execution_count": 247,
   "metadata": {},
   "outputs": [],
   "source": [
    "x=x.fillna(0)"
   ]
  },
  {
   "cell_type": "code",
   "execution_count": 248,
   "metadata": {},
   "outputs": [
    {
     "name": "stderr",
     "output_type": "stream",
     "text": [
      "C:\\ProgramData\\Anaconda3\\lib\\site-packages\\sklearn\\preprocessing\\data.py:625: DataConversionWarning: Data with input dtype bool, int32, int64, float64 were all converted to float64 by StandardScaler.\n",
      "  return self.partial_fit(X, y)\n"
     ]
    }
   ],
   "source": [
    "\n",
    "X = preprocessing.StandardScaler().fit(X).transform(X.astype(float)) #Z-skor "
   ]
  },
  {
   "cell_type": "code",
   "execution_count": 249,
   "metadata": {},
   "outputs": [],
   "source": [
    "\n",
    "from sklearn.linear_model import LogisticRegression \n",
    "from sklearn.model_selection import train_test_split\n",
    "x_train,x_test,y_train,y_test=train_test_split(x,y,test_size=0.2 ,random_state=42)"
   ]
  },
  {
   "cell_type": "code",
   "execution_count": 250,
   "metadata": {},
   "outputs": [
    {
     "name": "stderr",
     "output_type": "stream",
     "text": [
      "C:\\ProgramData\\Anaconda3\\lib\\site-packages\\sklearn\\linear_model\\logistic.py:433: FutureWarning: Default solver will be changed to 'lbfgs' in 0.22. Specify a solver to silence this warning.\n",
      "  FutureWarning)\n"
     ]
    },
    {
     "data": {
      "text/plain": [
       "LogisticRegression(C=1.0, class_weight=None, dual=False, fit_intercept=True,\n",
       "          intercept_scaling=1, max_iter=100, multi_class='warn',\n",
       "          n_jobs=None, penalty='l2', random_state=None, solver='warn',\n",
       "          tol=0.0001, verbose=0, warm_start=False)"
      ]
     },
     "execution_count": 250,
     "metadata": {},
     "output_type": "execute_result"
    }
   ],
   "source": [
    "logisticRegr=LogisticRegression()\n",
    "\n",
    "logisticRegr.fit(x_train,y_train)"
   ]
  },
  {
   "cell_type": "code",
   "execution_count": 257,
   "metadata": {},
   "outputs": [
    {
     "name": "stdout",
     "output_type": "stream",
     "text": [
      "[0.9014419  0.96708067 0.91489302 ... 0.94371257 0.81950541 0.90860678]\n"
     ]
    }
   ],
   "source": [
    "# Make predictions\n",
    "# Make sure to select the second column only\n",
    "log_reg_pred = logisticRegr.predict_proba(x_test)[:, 0]\n",
    "print(log_reg_pred)"
   ]
  },
  {
   "cell_type": "code",
   "execution_count": 272,
   "metadata": {},
   "outputs": [
    {
     "name": "stdout",
     "output_type": "stream",
     "text": [
      "Training:0.919189619849761\n",
      "Test:0.9195161211648212\n"
     ]
    }
   ],
   "source": [
    "\n",
    "\n",
    "print(\"Training:\"+str(logisticRegr.score(x_train,y_train)))\n",
    "print(\"Test:\"+str(logisticRegr.score(x_test,y_test)))\n",
    "y_pred= logisticRegr.predict(x_test)"
   ]
  },
  {
   "cell_type": "code",
   "execution_count": 273,
   "metadata": {},
   "outputs": [
    {
     "ename": "NameError",
     "evalue": "name 'logisticReg' is not defined",
     "output_type": "error",
     "traceback": [
      "\u001b[1;31m---------------------------------------------------------------------------\u001b[0m",
      "\u001b[1;31mNameError\u001b[0m                                 Traceback (most recent call last)",
      "\u001b[1;32m<ipython-input-273-41765a2547fb>\u001b[0m in \u001b[0;36m<module>\u001b[1;34m\u001b[0m\n\u001b[1;32m----> 1\u001b[1;33m \u001b[0mimportances\u001b[0m\u001b[1;33m=\u001b[0m\u001b[0mlogisticReg\u001b[0m\u001b[1;33m.\u001b[0m\u001b[0mfeature_importances_\u001b[0m\u001b[1;33m\u001b[0m\u001b[1;33m\u001b[0m\u001b[0m\n\u001b[0m",
      "\u001b[1;31mNameError\u001b[0m: name 'logisticReg' is not defined"
     ]
    }
   ],
   "source": []
  },
  {
   "cell_type": "code",
   "execution_count": null,
   "metadata": {},
   "outputs": [],
   "source": []
  }
 ],
 "metadata": {
  "kernelspec": {
   "display_name": "Python 3",
   "language": "python",
   "name": "python3"
  },
  "language_info": {
   "codemirror_mode": {
    "name": "ipython",
    "version": 3
   },
   "file_extension": ".py",
   "mimetype": "text/x-python",
   "name": "python",
   "nbconvert_exporter": "python",
   "pygments_lexer": "ipython3",
   "version": "3.7.1"
  }
 },
 "nbformat": 4,
 "nbformat_minor": 2
}
